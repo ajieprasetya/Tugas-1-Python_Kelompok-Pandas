{
  "nbformat": 4,
  "nbformat_minor": 0,
  "metadata": {
    "colab": {
      "name": "Tugas_1_Kelompok_Pandas.ipynb",
      "provenance": [],
      "collapsed_sections": []
    },
    "kernelspec": {
      "name": "python3",
      "display_name": "Python 3"
    },
    "language_info": {
      "name": "python"
    }
  },
  "cells": [
    {
      "cell_type": "markdown",
      "source": [
        "#Contoh Tipe Data Complex"
      ],
      "metadata": {
        "id": "l_9njMbOxOG5"
      }
    },
    {
      "cell_type": "markdown",
      "source": [
        "Tipe data complex merepresentasikan pasangan nilai real dan nilai imajiner. Bilangan kompleks sendiri dituliskan dalam formulasi 'j' sebagai bagian imajiner.\n",
        "\n"
      ],
      "metadata": {
        "id": "EL8B4EC42GPD"
      }
    },
    {
      "cell_type": "code",
      "source": [
        "x = 1+15j #angka 1 melambangkan bil. real, sedangkan 15 melambangkan bil.imajiner\n",
        "y = 5+10j #angka 5 melambangkan bil.real, sedangkan angka 10 melambangkan bil.imajiner"
      ],
      "metadata": {
        "id": "RpFJiRKLxjiC"
      },
      "execution_count": null,
      "outputs": []
    },
    {
      "cell_type": "code",
      "source": [
        "print('Tipe dari x adalah', type(x))\n",
        "print('Tipe dari y adalah', type(y))"
      ],
      "metadata": {
        "colab": {
          "base_uri": "https://localhost:8080/"
        },
        "id": "qKJqjw2l28nq",
        "outputId": "904b2b02-8577-4dad-8ce9-6581e94535ec"
      },
      "execution_count": null,
      "outputs": [
        {
          "output_type": "stream",
          "name": "stdout",
          "text": [
            "Tipe dari x adalah <class 'complex'>\n",
            "Tipe dari y adalah <class 'complex'>\n"
          ]
        }
      ]
    },
    {
      "cell_type": "markdown",
      "source": [
        "##Contoh Tipe Data String"
      ],
      "metadata": {
        "id": "WEmfaM4beWmt"
      }
    },
    {
      "cell_type": "markdown",
      "source": [
        "Tipe data string dapat disimpan pada suatu variabel dengan menggunakan tanda petik, baik itu petik satu 'text' ataupun petik dua (\"text\")"
      ],
      "metadata": {
        "id": "L43JT0YLexjR"
      }
    },
    {
      "cell_type": "code",
      "source": [
        "program1 = \"Data Science Track Pathway\""
      ],
      "metadata": {
        "id": "b9su7arhewcv"
      },
      "execution_count": null,
      "outputs": []
    },
    {
      "cell_type": "code",
      "execution_count": null,
      "metadata": {
        "id": "gatPmTcA0XyR",
        "colab": {
          "base_uri": "https://localhost:8080/"
        },
        "outputId": "35d058cf-ee9f-4cd5-807e-ae7b57f85601"
      },
      "outputs": [
        {
          "output_type": "stream",
          "name": "stdout",
          "text": [
            "Data pada variabel program bertipe <class 'str'>\n"
          ]
        }
      ],
      "source": [
        "print(f'Data pada variabel program bertipe {type(program1)}')"
      ]
    },
    {
      "cell_type": "code",
      "source": [
        "program2 = 'Data Science Track - Kelas B'"
      ],
      "metadata": {
        "id": "bH2o5durfvem"
      },
      "execution_count": null,
      "outputs": []
    },
    {
      "cell_type": "code",
      "source": [
        "print(f'Data pada variabel program bertipe {type(program2)}')"
      ],
      "metadata": {
        "colab": {
          "base_uri": "https://localhost:8080/"
        },
        "id": "KlD3QltFf8cx",
        "outputId": "d2c536d4-243f-463c-e307-20af24efa3a6"
      },
      "execution_count": null,
      "outputs": [
        {
          "output_type": "stream",
          "name": "stdout",
          "text": [
            "Data pada variabel program bertipe <class 'str'>\n"
          ]
        }
      ]
    },
    {
      "cell_type": "markdown",
      "source": [
        "Menampilkan data string pada baris yang baru (menambahkan enter) dapat dilakukan menggunakan tiga buah tanda petik (\"\"\"text \"\"\") atau ('''text''')."
      ],
      "metadata": {
        "id": "XfVWLSDwfl7_"
      }
    },
    {
      "cell_type": "code",
      "source": [
        "nama_kegiatan = '''Program Studi Independen\n",
        "Kampus Merdeka X My Edu Solve\n",
        "Data Science Track Pathway\n",
        "Kelas B'''"
      ],
      "metadata": {
        "id": "QkXy5aAefbEH"
      },
      "execution_count": null,
      "outputs": []
    },
    {
      "cell_type": "code",
      "source": [
        "print(nama_kegiatan)"
      ],
      "metadata": {
        "colab": {
          "base_uri": "https://localhost:8080/"
        },
        "id": "SZHCUlOogVjq",
        "outputId": "da3b2059-44a1-44ff-f082-2ae187fdb0f8"
      },
      "execution_count": null,
      "outputs": [
        {
          "output_type": "stream",
          "name": "stdout",
          "text": [
            "Program Studi Independen\n",
            "Kampus Merdeka X My Edu Solve\n",
            "Data Science Track Pathway\n",
            "Kelas B\n"
          ]
        }
      ]
    },
    {
      "cell_type": "code",
      "source": [
        "print(f'Data pada variabel nama_kegiatan bertipe {type(nama_kegiatan)}')"
      ],
      "metadata": {
        "colab": {
          "base_uri": "https://localhost:8080/"
        },
        "id": "UOAR8L0ZhP41",
        "outputId": "893a32db-f99c-4bf2-8801-b423be01f90a"
      },
      "execution_count": null,
      "outputs": [
        {
          "output_type": "stream",
          "name": "stdout",
          "text": [
            "Data pada variabel nama_kegiatan bertipe <class 'str'>\n"
          ]
        }
      ]
    },
    {
      "cell_type": "markdown",
      "source": [
        "Selain menggunakan petik tiga, menampilkan data bertipe string pada baris yang berbeda dapat menggunakan tanda \"\\n\". Namun, tanda ini hanya dapat digunakan di dalam fungsi print."
      ],
      "metadata": {
        "id": "yPxSAf-Vhofz"
      }
    },
    {
      "cell_type": "code",
      "source": [
        "alamat = \"Pagedangan, \\nTangerang Selatan, \\nProvinsi Banten, 15339 \""
      ],
      "metadata": {
        "id": "Fk1x3hIehhFe"
      },
      "execution_count": null,
      "outputs": []
    },
    {
      "cell_type": "code",
      "source": [
        "print(alamat)"
      ],
      "metadata": {
        "colab": {
          "base_uri": "https://localhost:8080/"
        },
        "id": "hN4eYpdIiFom",
        "outputId": "26f815bc-14aa-4963-f94d-65d43a3b5369"
      },
      "execution_count": null,
      "outputs": [
        {
          "output_type": "stream",
          "name": "stdout",
          "text": [
            "Pagedangan, \n",
            "Tangerang Selatan, \n",
            "Provinsi Banten, 15339 \n"
          ]
        }
      ]
    },
    {
      "cell_type": "code",
      "source": [
        "print(f'Data pada variabel alamat bertipe {type(alamat)}')"
      ],
      "metadata": {
        "colab": {
          "base_uri": "https://localhost:8080/"
        },
        "id": "IdO4_hlEiJmt",
        "outputId": "0146b119-1097-409a-b0d5-7d0a838c4c40"
      },
      "execution_count": null,
      "outputs": [
        {
          "output_type": "stream",
          "name": "stdout",
          "text": [
            "Data pada variabel alamat bertipe <class 'str'>\n"
          ]
        }
      ]
    },
    {
      "cell_type": "markdown",
      "source": [
        "# **Integer** vs **Float** vs **Complex**"
      ],
      "metadata": {
        "id": "8UUzq1ObwuS0"
      }
    },
    {
      "cell_type": "markdown",
      "source": [
        "Pada dasarnya yang membedakan tipe Integer dengan tipe float adalah titik (decimal points). Sedangkan untuk tipe kompleks dituliskan dengan 'j' sebagai bentuk imajinernya.\n",
        "\n",
        "\n",
        "\n"
      ],
      "metadata": {
        "id": "XfDIMjK70AFa"
      }
    },
    {
      "cell_type": "code",
      "source": [
        "#Tipe Integer\n",
        "lebar1 = 12\n",
        "print(lebar1, \"tipenya adalah \", type(lebar1))\n",
        "\n",
        "#Tipe Float\n",
        "lebar2 = 12.0\n",
        "print(lebar2, \"tipenya adalah \", type(lebar2))\n",
        "\n",
        "#Tipe Complex\n",
        "x = 2+3j\n",
        "print(lebar3, \"tipenya adalah \",type(lebar3))"
      ],
      "metadata": {
        "colab": {
          "base_uri": "https://localhost:8080/"
        },
        "id": "o5-D5d5wyQuf",
        "outputId": "ee01ff9d-8b45-4ef6-9bf1-8e083b8667a0"
      },
      "execution_count": null,
      "outputs": [
        {
          "output_type": "stream",
          "name": "stdout",
          "text": [
            "12 tipenya adalah  <class 'int'>\n",
            "12.0 tipenya adalah  <class 'float'>\n",
            "(2+3j) tipenya adalah  <class 'complex'>\n"
          ]
        }
      ]
    },
    {
      "cell_type": "markdown",
      "source": [
        "## Contoh **Integer** dan **Float**"
      ],
      "metadata": {
        "id": "uVAyioUQUtnX"
      }
    },
    {
      "cell_type": "markdown",
      "source": [
        "Integer adalah bilangan bulat, sedangkan Float adalah angka dengan titik desimal (decimal point) yang biasanya digunakan untuk variabel continue."
      ],
      "metadata": {
        "id": "c4gTzVj4VWFO"
      }
    },
    {
      "cell_type": "code",
      "source": [
        "# Integer\n",
        "provinsi = 34\n",
        "print('Jumlah provinsi di Indonesia adalah', provinsi, 'dengan tipe datanya adalah', type(provinsi))"
      ],
      "metadata": {
        "colab": {
          "base_uri": "https://localhost:8080/"
        },
        "id": "656U-joxWEj7",
        "outputId": "03bdf55a-7318-47e3-cfb0-788244ca3673"
      },
      "execution_count": null,
      "outputs": [
        {
          "output_type": "stream",
          "name": "stdout",
          "text": [
            "Jumlah provinsi di Indonesia adalah 34 dengan tipe datanya adalah <class 'int'>\n"
          ]
        }
      ]
    },
    {
      "cell_type": "code",
      "source": [
        "# Float\n",
        "Luas_JATIM = 47.800\n",
        "print('Luas Provinsi JATIM sebesar', Luas_JATIM, 'km^2', 'dengan tipe datanya adalah', type(Luas_JATIM))"
      ],
      "metadata": {
        "colab": {
          "base_uri": "https://localhost:8080/"
        },
        "id": "H9TBjkcWXLQ1",
        "outputId": "5e56b91c-98d6-4fa9-c24f-23fc1a9664d8"
      },
      "execution_count": null,
      "outputs": [
        {
          "output_type": "stream",
          "name": "stdout",
          "text": [
            "Luas Provinsi JATIM sebesar 47.8 km^2 dengan tipe datanya adalah <class 'float'>\n"
          ]
        }
      ]
    }
  ]
}